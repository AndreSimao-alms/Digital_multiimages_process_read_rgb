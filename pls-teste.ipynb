{
 "cells": [
  {
   "cell_type": "markdown",
   "id": "1d246c3d",
   "metadata": {},
   "source": [
    "# Bibliotecas\n",
    "---"
   ]
  },
  {
   "cell_type": "code",
   "execution_count": 98,
   "id": "5b47ea59",
   "metadata": {},
   "outputs": [],
   "source": [
    "# Responsável por acessar o conteúdo das pastas\n",
    "from os import listdir, path\n",
    "# Responsável gerar o objeto image\n",
    "from PIL import Image\n",
    "# Responsável por auxiliar gerar os dados da biblioteca Pillow em matrizes\n",
    "import numpy as np \n",
    "# Responsável por auxiliar na conversão do objeto image em tipo numpy.array\n",
    "from matplotlib import image\n",
    "# Responsável na construção do dataframe\n",
    "import pandas as pd"
   ]
  },
  {
   "cell_type": "markdown",
   "id": "65cb02bd",
   "metadata": {},
   "source": [
    "# Leitura de nomes das imagens\n",
    "---\n",
    "Atente-se pelo nome da pasta que contém as imagens no diretório de usa IDE."
   ]
  },
  {
   "cell_type": "code",
   "execution_count": 105,
   "id": "7124ed33",
   "metadata": {},
   "outputs": [],
   "source": [
    "def __read_names(pasta):\n",
    "    \"\"\"\n",
    "    Returns directory with filenames found in a single folder\n",
    "    param folder: type string that must contain exactly the name of the folder containing files for reading\n",
    "    return: list type containing file directories\n",
    "    \"\"\"\n",
    "    caminhos = [os.path.join(pasta, nome) for nome in os.listdir(pasta)]\n",
    "    arquivos = [arq for arq in caminhos if os.path.isfile(arq)]\n",
    "    jpgs = [arq for arq in arquivos if arq.lower().endswith(\".jpg\")]\n",
    "    \n",
    "    return jpgs"
   ]
  },
  {
   "cell_type": "markdown",
   "id": "8ff9da2d",
   "metadata": {},
   "source": [
    "# Processamento de imagens (RGB)\n",
    "---"
   ]
  },
  {
   "cell_type": "code",
   "execution_count": 95,
   "id": "aac76fa8",
   "metadata": {},
   "outputs": [],
   "source": [
    "def __read_rgb(jpgs=jpgs):\n",
    "    \"\"\"\n",
    "    Function that returns RGB encoded data in a type tuple (r,g,b)\n",
    "    return: tuple containing (r,g,b)\n",
    "    \"\"\"\n",
    "    r,g,b = [],[],[]\n",
    "\n",
    "    for jpg in jpgs:\n",
    "        img = Image.open(jpg)\n",
    "        r.append(image.imread(jpg)[0][0][0])\n",
    "        g.append(image.imread(jpg)[0][0][1])\n",
    "        b.append(image.imread(jpg)[0][0][2])\n",
    "    return r,g,b"
   ]
  },
  {
   "cell_type": "markdown",
   "id": "c6b06474",
   "metadata": {},
   "source": [
    "# Dataframe e armazenamento de planilha com resultados\n",
    "---"
   ]
  },
  {
   "cell_type": "code",
   "execution_count": 108,
   "id": "3d9ed905",
   "metadata": {},
   "outputs": [],
   "source": [
    "def __create_df_rgb(r = __read_rgb()[0], g = __read_rgb()[1], b = __read_rgb()[2]):\n",
    "    \"\"\"\n",
    "    Função que gera dataframe com os valores rgb\n",
    "    \"\"\"\n",
    "    return pd.DataFrame({'R':r,'G':g,'B':b})"
   ]
  },
  {
   "cell_type": "markdown",
   "id": "ba6dd2da",
   "metadata": {},
   "source": [
    "# Função show_results\n",
    "---\n",
    "Este notebook contem a função **show_results()** que será responsável por ler uma pasta contendo imagens, assim retornando um dataframe com três colunas com os valores de RGB de cada arquivo.\n",
    "\n",
    "Apenas chame esta função inserindo um único parâmetro, que é uma string com o nome da pasta. Como apresentado abaixo:"
   ]
  },
  {
   "cell_type": "code",
   "execution_count": 109,
   "id": "f8aa588b",
   "metadata": {},
   "outputs": [],
   "source": [
    "def show_results(pasta):\n",
    "    jpgs = __read_names(pasta)\n",
    "    __read_rgb()\n",
    "    return __create_df_rgb()"
   ]
  },
  {
   "cell_type": "code",
   "execution_count": 111,
   "id": "31220a6e",
   "metadata": {},
   "outputs": [],
   "source": [
    "#show_results('teste')"
   ]
  }
 ],
 "metadata": {
  "kernelspec": {
   "display_name": "Python 3",
   "language": "python",
   "name": "python3"
  },
  "language_info": {
   "codemirror_mode": {
    "name": "ipython",
    "version": 3
   },
   "file_extension": ".py",
   "mimetype": "text/x-python",
   "name": "python",
   "nbconvert_exporter": "python",
   "pygments_lexer": "ipython3",
   "version": "3.8.8"
  }
 },
 "nbformat": 4,
 "nbformat_minor": 5
}
